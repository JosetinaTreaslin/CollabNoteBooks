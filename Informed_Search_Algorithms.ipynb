{
  "nbformat": 4,
  "nbformat_minor": 0,
  "metadata": {
    "colab": {
      "provenance": [],
      "include_colab_link": true
    },
    "kernelspec": {
      "name": "python3",
      "display_name": "Python 3"
    },
    "language_info": {
      "name": "python"
    }
  },
  "cells": [
    {
      "cell_type": "markdown",
      "metadata": {
        "id": "view-in-github",
        "colab_type": "text"
      },
      "source": [
        "<a href=\"https://colab.research.google.com/github/JosetinaTreaslin/CollabNoteBooks/blob/master/Informed_Search_Algorithms.ipynb\" target=\"_parent\"><img src=\"https://colab.research.google.com/assets/colab-badge.svg\" alt=\"Open In Colab\"/></a>"
      ]
    },
    {
      "cell_type": "code",
      "execution_count": null,
      "metadata": {
        "colab": {
          "base_uri": "https://localhost:8080/"
        },
        "id": "agOHmA-8c1UO",
        "outputId": "ab68ab06-1066-4fb6-e1c9-2a023ab38262"
      },
      "outputs": [
        {
          "output_type": "stream",
          "name": "stdout",
          "text": [
            "(['A', 'F', 'G', 'I', 'J'], 10)\n"
          ]
        }
      ],
      "source": [
        "nodes = {\n",
        "    'A': [['B', 6], ['F', 3]],\n",
        "    'B': [['A', 6], ['C', 3], ['D', 2]],\n",
        "    'C': [['B', 3], ['D', 1], ['E', 5]],\n",
        "    'D': [['B', 2], ['C', 1], ['E', 8]],\n",
        "    'E': [['C', 5], ['D', 8], ['I', 5], ['J', 5]],\n",
        "    'F': [['A', 3], ['G', 1], ['H', 7]],\n",
        "    'G': [['F', 1], ['I', 3]],\n",
        "    'H': [['F', 7], ['I', 2]],\n",
        "    'I': [['G', 3], ['H', 2], ['E', 5], ['J', 3]],\n",
        "    'J': [['E', 5], ['I', 3]]\n",
        "}\n",
        "\n",
        "h = {\n",
        "    'A': 10,\n",
        "    'B': 8,\n",
        "    'C': 5,\n",
        "    'D': 7,\n",
        "    'E': 3,\n",
        "    'F': 6,\n",
        "    'G': 5,\n",
        "    'H': 3,\n",
        "    'I': 1,\n",
        "    'J': 0\n",
        "}\n",
        "\n",
        "def astar(start, goal):\n",
        "    opened = []\n",
        "    closed = []\n",
        "    visited = set()\n",
        "    opened.append([start, h[start]])\n",
        "\n",
        "    while opened:\n",
        "        min_cost = float('inf')\n",
        "        val = ''\n",
        "\n",
        "        for node in opened:\n",
        "            if node[1] < min_cost:\n",
        "                min_cost = node[1]\n",
        "                val = node[0]\n",
        "\n",
        "        closed.append(val)\n",
        "        visited.add(val)\n",
        "\n",
        "        if val == goal:\n",
        "            break\n",
        "\n",
        "        opened.remove([val, min_cost])\n",
        "\n",
        "        for neighbor in nodes[val]:\n",
        "            neighbor_node, cost = neighbor\n",
        "            if neighbor_node not in visited:\n",
        "                heuristic = h[neighbor_node]\n",
        "                opened.append([neighbor_node, min_cost - h[val] + cost + heuristic])\n",
        "\n",
        "    path = []\n",
        "    current_node = goal\n",
        "    while current_node != start:\n",
        "        path.append(current_node)\n",
        "        for neighbor in nodes[current_node]:\n",
        "            if neighbor[0] in closed:\n",
        "                current_node = neighbor[0]\n",
        "                break\n",
        "\n",
        "    path.append(start)\n",
        "    path.reverse()\n",
        "\n",
        "    return path, min_cost\n",
        "\n",
        "print(astar('A', 'J'))"
      ]
    },
    {
      "cell_type": "code",
      "source": [
        "nodes = {'A': [['B', 6], ['F', 3]],\n",
        "         'B': [['A', 6], ['C', 3], ['D',2]],\n",
        "         'C': [['B', 3], ['D', 1],['E', 5]],\n",
        "         'D': [['B', 2], ['C',1], ['E', 8]],\n",
        "         'E': [['C', 5],['D', 8], ['I', 5], ['J', 5]],\n",
        "         'F': [['A', 3], ['G', 1],['H', 7]],\n",
        "         'G': [['F',1], ['I', 3]],\n",
        "         'H': [['F', 7], ['I', 2]],\n",
        "         'I': [['G', 3], ['H', 2], ['E',5], ['J', 3]],\n",
        "         'J': [['E', 5], ['I',3]]}\n",
        "h = {'A' : 10,\n",
        "     'B' : 8,\n",
        "     'C' : 5,\n",
        "     'D' : 7,\n",
        "     'E' : 3,\n",
        "     'F' : 6,\n",
        "     'G' : 5,\n",
        "     'H' : 3,\n",
        "     'I' : 1,\n",
        "     'J' : 0}\n",
        "def astar(start, goal):\n",
        "    opened = []\n",
        "    closed = []\n",
        "    visited = set()\n",
        "    opened.append([start, h[start]])\n",
        "    while opened :\n",
        "        min = 1000\n",
        "        val = ''\n",
        "        for i in opened:\n",
        "            if i[1] < min:\n",
        "                min = i[1]\n",
        "                val = i[0]\n",
        "                closed.append(val)\n",
        "                visited.add(val)\n",
        "                if goal not in closed:\n",
        "                    for i in nodes[val]:\n",
        "                        if i[0] not in visited:\n",
        "                            opened.append([i[0], (min-h[val]+i[1]+h[i[0]])])\n",
        "                        else:\n",
        "                             break\n",
        "                        opened.remove([val, min])\n",
        "                        closed = closed[::-1]\n",
        "                        min = 1000\n",
        "                        for i in opened:\n",
        "                            if i[1] < min:\n",
        "                                 min = i[1]\n",
        "                                 lens = len(closed)\n",
        "                                 i = 0\n",
        "                                 while i < lens-1:\n",
        "                                    nei = []\n",
        "                                    for j in nodes[closed[i]]:\n",
        "                                        nei.append(j[0])\n",
        "                                        if closed[i+1] not in nei:\n",
        "                                            del closed[i+1]\n",
        "                                            lens-=1\n",
        "                                            i+=1\n",
        "                                            closed = closed[::-1]\n",
        "                        return closed, min# Start - 'A', Goal = 'J'\n",
        "print(\"\\nOUTPUT\\n\")\n",
        "print(\"\\t\",astar('A', 'J'))"
      ],
      "metadata": {
        "colab": {
          "base_uri": "https://localhost:8080/"
        },
        "id": "93TDEA2PdKBL",
        "outputId": "e431955e-52ae-4ad7-d068-8555c9ae4991"
      },
      "execution_count": null,
      "outputs": [
        {
          "output_type": "stream",
          "name": "stdout",
          "text": [
            "\n",
            "OUTPUT\n",
            "\n",
            "\t (['A'], 14)\n"
          ]
        }
      ]
    }
  ]
}